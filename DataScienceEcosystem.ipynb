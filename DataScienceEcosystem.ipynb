{
 "cells": [
  {
   "cell_type": "markdown",
   "id": "cd5839e3",
   "metadata": {},
   "source": [
    "# Data Science Tools and Ecosystem\n"
   ]
  },
  {
   "cell_type": "markdown",
   "id": "d79633de",
   "metadata": {},
   "source": [
    "In this notebook, Data Science Tools and Ecosystem are summarised."
   ]
  },
  {
   "cell_type": "markdown",
   "id": "cc79048b",
   "metadata": {},
   "source": [
    "__Objectives__\n",
    "\n",
    "   * List popular tools for Data Science\n",
    "   * List popular languages for Data Science\n",
    "   * List popular libraries for Data Science"
   ]
  },
  {
   "cell_type": "markdown",
   "id": "ba82a932",
   "metadata": {},
   "source": [
    "Some of the popular languages Data Scientists use are:\n",
    "\n",
    " 1. R\n",
    " 2. Python\n",
    " 3. SQL"
   ]
  },
  {
   "cell_type": "markdown",
   "id": "08f8fe39",
   "metadata": {},
   "source": [
    "Some of the popular libraries for Data Scientist:\n",
    "1. Pandas\n",
    "2. TensorFlow\n",
    "3. MatPlotlib"
   ]
  },
  {
   "cell_type": "markdown",
   "id": "81131b21",
   "metadata": {},
   "source": [
    "Some of the popular tools in Data Science:\n",
    "1. Python\n",
    "2. Excel\n",
    "3. Tableau"
   ]
  },
  {
   "cell_type": "markdown",
   "id": "b81ec7fd",
   "metadata": {},
   "source": [
    "### Below are a few examples of evaluating arithmetic expressions in Python\n",
    "$2 + 3$"
   ]
  },
  {
   "cell_type": "code",
   "execution_count": 4,
   "id": "6acc62ab",
   "metadata": {},
   "outputs": [
    {
     "data": {
      "text/plain": [
       "17"
      ]
     },
     "execution_count": 4,
     "metadata": {},
     "output_type": "execute_result"
    }
   ],
   "source": [
    "## This is a simple arithmetic expression to multiply then add integers\n",
    "(3*4)+5"
   ]
  },
  {
   "cell_type": "code",
   "execution_count": 13,
   "id": "cabe812e",
   "metadata": {},
   "outputs": [
    {
     "name": "stdout",
     "output_type": "stream",
     "text": [
      "3\n"
     ]
    }
   ],
   "source": [
    "## This will convert 200 minutes to hours by dividing by 60\n",
    "total_minutes = 200\n",
    "hours = total_minutes//60\n",
    "print(hours)"
   ]
  },
  {
   "cell_type": "markdown",
   "id": "0c4d8382",
   "metadata": {},
   "source": [
    "## Author\n",
    "Oghenemine Ewherido"
   ]
  }
 ],
 "metadata": {
  "kernelspec": {
   "display_name": "Python 3 (ipykernel)",
   "language": "python",
   "name": "python3"
  },
  "language_info": {
   "codemirror_mode": {
    "name": "ipython",
    "version": 3
   },
   "file_extension": ".py",
   "mimetype": "text/x-python",
   "name": "python",
   "nbconvert_exporter": "python",
   "pygments_lexer": "ipython3",
   "version": "3.11.5"
  }
 },
 "nbformat": 4,
 "nbformat_minor": 5
}
